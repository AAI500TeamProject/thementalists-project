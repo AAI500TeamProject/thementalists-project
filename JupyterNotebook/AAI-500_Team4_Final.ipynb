{
 "cells": [
  {
   "cell_type": "markdown",
   "metadata": {},
   "source": [
    "# Final Project\n",
    "\n",
    "Paul Parks, Alden Caterio, Mayank Bhatt"
   ]
  },
  {
   "cell_type": "code",
   "execution_count": null,
   "metadata": {},
   "outputs": [],
   "source": [
    "# imports\n",
    "import pandas as pd\n",
    "from scipy import stats\n",
    "import statsmodels.api as sm\n",
    "import random\n",
    "import numpy as np\n",
    "import seaborn as sns\n",
    "import matplotlib.pyplot as plt\n",
    "from scipy.stats import norm\n",
    "from sklearn.metrics import mean_absolute_error\n",
    "from tabulate import tabulate"
   ]
  },
  {
   "cell_type": "markdown",
   "metadata": {},
   "source": [
    "## Datasets"
   ]
  },
  {
   "cell_type": "code",
   "execution_count": null,
   "metadata": {},
   "outputs": [],
   "source": [
    "wine_white = pd.read_csv('../Dataset/wine+quality/winequality-white.csv', sep=';')\n",
    "wine_white.describe()"
   ]
  },
  {
   "cell_type": "code",
   "execution_count": null,
   "metadata": {},
   "outputs": [],
   "source": [
    "wine_red = pd.read_csv('../Dataset/wine+quality/winequality-red.csv', sep=';')\n",
    "wine_red.describe()"
   ]
  },
  {
   "cell_type": "code",
   "execution_count": null,
   "metadata": {},
   "outputs": [],
   "source": [
    "columns = [\n",
    "    'fixed acidity',\n",
    "    'volatile acidity',\n",
    "    'citric acid',\n",
    "    'residual sugar',\n",
    "    'chlorides',\n",
    "    'free sulfur dioxide',\n",
    "    'total sulfur dioxide',\n",
    "    'density',\n",
    "    'pH',\n",
    "    'sulphates',\n",
    "    'alcohol',\n",
    "    'quality'\n",
    "]"
   ]
  },
  {
   "cell_type": "markdown",
   "metadata": {},
   "source": [
    "## Boxplot all data to view outliers"
   ]
  },
  {
   "cell_type": "code",
   "execution_count": null,
   "metadata": {},
   "outputs": [],
   "source": [
    "def do_boxplot(data):\n",
    "    # fig, axes = plt.subplots(nrows=3, ncols=4, figsize=(15,10))\n",
    "    # 6/19/23 ACaterio: Lowering figsize to fit into screenshot for EDA in the report\n",
    "    fig, axes = plt.subplots(nrows=3, ncols=4, figsize=(10,8))\n",
    "    axes = axes.ravel()\n",
    "    for i, column in enumerate(columns):\n",
    "        axes[i].boxplot(data[column])\n",
    "        axes[i].set_title(f'Boxplot of {column}')\n",
    "    plt.tight_layout()\n",
    "    plt.show()"
   ]
  },
  {
   "cell_type": "code",
   "execution_count": null,
   "metadata": {},
   "outputs": [],
   "source": [
    "print('BoxPlots Red Wine')\n",
    "do_boxplot(wine_red)"
   ]
  },
  {
   "cell_type": "code",
   "execution_count": null,
   "metadata": {},
   "outputs": [],
   "source": [
    "print('BoxPlots White Wine')\n",
    "do_boxplot(wine_white)"
   ]
  },
  {
   "cell_type": "code",
   "execution_count": null,
   "metadata": {},
   "outputs": [],
   "source": [
    "wine_red_n = len(wine_red)\n",
    "wine_white_n = len(wine_white)\n",
    "\n",
    "def countOutliers(df, df_str, n):\n",
    "    Q1 = df.quantile(0.25)\n",
    "    Q3 = df.quantile(0.75)\n",
    "    IQR = Q3 - Q1\n",
    "    outliers = ((df < (Q1 - 1.5 * IQR)) | (df > (Q3 + 1.5 * IQR))).sum()\n",
    "    outliers = outliers.tolist()\n",
    "    arr = []\n",
    "    for i in range(len(outliers)):\n",
    "        arr.append([])\n",
    "        outlier_perc = round(outliers[i]/len(wine_red)*100,2)\n",
    "        arr[i].append(columns[i])\n",
    "        arr[i].append(outliers[i])\n",
    "        arr[i].append(outlier_perc)\n",
    "    print(tabulate(arr, headers=['Attribute', 'Total Outliers', 'Percentage'], tablefmt=\"fancy_grid\"))"
   ]
  },
  {
   "cell_type": "code",
   "execution_count": null,
   "metadata": {},
   "outputs": [],
   "source": [
    "countOutliers(wine_red, \"Red Wine\", wine_red_n)"
   ]
  },
  {
   "cell_type": "code",
   "execution_count": null,
   "metadata": {},
   "outputs": [],
   "source": [
    "countOutliers(wine_white, \"White Wine\", wine_white_n)"
   ]
  },
  {
   "cell_type": "markdown",
   "metadata": {},
   "source": [
    "## Correlation and Variation"
   ]
  },
  {
   "cell_type": "code",
   "execution_count": null,
   "metadata": {},
   "outputs": [],
   "source": [
    "def createCorrMatr(df, df_str, color):\n",
    "    cols_df = df.corr().nlargest(len(columns), 'quality')['quality'].index\n",
    "    correl = df[cols_df].corr()\n",
    "    plt.figure(figsize=(10,8))\n",
    "    plt.title(f\"Correlation Matrix: {df_str}\")\n",
    "    sns.heatmap(correl, annot=True, cmap = color)\n",
    "\n",
    "createCorrMatr(wine_red, 'Red Wine', 'plasma')\n",
    "createCorrMatr(wine_white, 'White Wine', 'GnBu')"
   ]
  },
  {
   "cell_type": "markdown",
   "metadata": {},
   "source": [
    "## Probability of Scores"
   ]
  },
  {
   "cell_type": "code",
   "execution_count": null,
   "metadata": {},
   "outputs": [],
   "source": [
    "def get_probability(df):\n",
    "    df.sort_values(by=['quality'], inplace=True)\n",
    "    df_mean = np.mean(df[\"quality\"])\n",
    "    df_std = np.std(df[\"quality\"])\n",
    "    pdf = stats.norm.pdf(df[\"quality\"], df_mean, df_std)\n",
    "\n",
    "    plt.xlabel('Quality')\n",
    "    plt.ylabel('Probability')\n",
    "    plt.title('PDF of Quality')\n",
    "    plt.plot(df[\"quality\"], pdf)"
   ]
  },
  {
   "cell_type": "code",
   "execution_count": null,
   "metadata": {},
   "outputs": [],
   "source": [
    "get_probability(wine_red)"
   ]
  },
  {
   "cell_type": "code",
   "execution_count": null,
   "metadata": {},
   "outputs": [],
   "source": [
    "get_probability(wine_white)"
   ]
  },
  {
   "cell_type": "markdown",
   "metadata": {},
   "source": [
    "## Remove all outliers"
   ]
  },
  {
   "cell_type": "code",
   "execution_count": null,
   "metadata": {},
   "outputs": [],
   "source": [
    "def remove_all_outliers(data_source):\n",
    "    data = data_source.copy()\n",
    "    for column in columns:\n",
    "        Q1 = data[column].quantile(0.25)\n",
    "        Q3 = data[column].quantile(0.75)\n",
    "        IQR = Q3 - Q1\n",
    "        data = data[(data[column] >= Q1 - 1.5*IQR) & (data[column] <= Q3 + 1.5*IQR)]\n",
    "    return data"
   ]
  },
  {
   "cell_type": "code",
   "execution_count": null,
   "metadata": {},
   "outputs": [],
   "source": [
    "wine_red_cleaned = remove_all_outliers(wine_red)\n",
    "wine_white_cleaned = remove_all_outliers(wine_white)"
   ]
  },
  {
   "cell_type": "markdown",
   "metadata": {},
   "source": [
    "## Generalized Linear Model Regression"
   ]
  },
  {
   "cell_type": "code",
   "execution_count": null,
   "metadata": {},
   "outputs": [],
   "source": [
    "def create_glm_fitted_model(df):\n",
    "    X = df.drop('quality', axis=1)\n",
    "    y = df['quality']\n",
    "\n",
    "    X = sm.add_constant(X)\n",
    "\n",
    "    # Create the model\n",
    "    model = sm.GLM(y, X)\n",
    "    return model.fit()"
   ]
  },
  {
   "cell_type": "code",
   "execution_count": null,
   "metadata": {},
   "outputs": [],
   "source": [
    "wine_red_results = create_glm_fitted_model(wine_red)\n",
    "print(wine_red_results.summary())"
   ]
  },
  {
   "cell_type": "markdown",
   "metadata": {},
   "source": [
    "```\n",
    "The variables 'volatile acidity', 'chlorides', 'free sulfur dioxide', 'total sulfur dioxide', 'pH', 'sulphates', and 'alcohol' are statistically significant predictors of wine quality because their p-values are less than 0.05.\n",
    "```"
   ]
  },
  {
   "cell_type": "code",
   "execution_count": null,
   "metadata": {},
   "outputs": [],
   "source": [
    "wine_white_results = create_glm_fitted_model(wine_white)\n",
    "print(wine_white_results.summary())"
   ]
  },
  {
   "cell_type": "markdown",
   "metadata": {},
   "source": [
    "```\n",
    "The variables 'volatile acidity', 'residual sugar', 'free sulfur dioxide', 'density', 'pH', 'sulphates', and 'alcohol' are statistically significant predictors of wine quality because their p-values are less than 0.05.\n",
    "```"
   ]
  },
  {
   "cell_type": "code",
   "execution_count": null,
   "metadata": {},
   "outputs": [],
   "source": [
    "wine_red_cleaned_results = create_glm_fitted_model(wine_red_cleaned)\n",
    "print(wine_red_cleaned_results.summary())"
   ]
  },
  {
   "cell_type": "code",
   "execution_count": null,
   "metadata": {},
   "outputs": [],
   "source": [
    "wine_white_cleaned_results = create_glm_fitted_model(wine_white_cleaned)\n",
    "print(wine_white_cleaned_results.summary())"
   ]
  },
  {
   "cell_type": "markdown",
   "metadata": {},
   "source": [
    "## Predictions - Red Wine"
   ]
  },
  {
   "cell_type": "code",
   "execution_count": null,
   "metadata": {},
   "outputs": [],
   "source": [
    "def quality_histogram(X, y, results):\n",
    "    predicted_scores = []\n",
    "    actual_scores = []\n",
    "    for row_iter in range(len(X)):\n",
    "        row = X.iloc[row_iter]\n",
    "        predicted_quality = results.predict(row)\n",
    "        predicted_scores.append(predicted_quality[0])\n",
    "        actual_scores.append(y.iloc[row_iter])\n",
    "\n",
    "    sns.kdeplot(predicted_scores, label='Predicted Score')\n",
    "    sns.kdeplot(actual_scores, label=\"Actual Score\")\n",
    "    \n",
    "    plt.legend()\n",
    "    plt.show()\n",
    "\n",
    "def predict_wine_using_df(df_source, results):\n",
    "    df = df_source.copy()\n",
    "    \n",
    "    get_mse_predictions(df, results)\n",
    "\n",
    "    X = df.drop('quality', axis=1)\n",
    "    X = sm.add_constant(X)\n",
    "    y = df['quality']\n",
    "    index = random.randint(0, len(df))\n",
    "    row = X.iloc[index]\n",
    "    predicted_quality = results.predict(row)\n",
    "    print('Predicted wine quality:', predicted_quality[0])\n",
    "    print('Predicted wine quality rounded:', round(predicted_quality[0]))\n",
    "    print('Actual wine quality:', y.iloc[index])\n",
    "\n",
    "    quality_histogram(X, y, results)"
   ]
  },
  {
   "cell_type": "code",
   "execution_count": null,
   "metadata": {},
   "outputs": [],
   "source": [
    "def get_mse_predictions(df, results):\n",
    "    X = df.drop('quality', axis=1)\n",
    "    X = sm.add_constant(X)\n",
    "    y = df['quality']\n",
    "    predictions = results.predict(X)\n",
    "    mae = mean_absolute_error(y, predictions)\n",
    "    print(f'Mean Absolute Error: {mae}')\n"
   ]
  },
  {
   "cell_type": "code",
   "execution_count": null,
   "metadata": {},
   "outputs": [],
   "source": [
    "def predict_simulated_best_wine(data_source, results):\n",
    "    print('Take the best scoring wine in the dataset and make it even better.')\n",
    "    # new_wine = {\n",
    "    #     'const': [1],\n",
    "    #     'fixed acidity': [8.5],\n",
    "    #     'volatile acidity': [0.8],\n",
    "    #     'citric acid': [0.56],\n",
    "    #     'residual sugar': [1.8],\n",
    "    #     'chlorides': [0.077],\n",
    "    #     'free sulfur dioxide': [10.0],\n",
    "    #     'total sulfur dioxide': [37.0],\n",
    "    #     'density': [0.9968],\n",
    "    #     'pH': [3.2],\n",
    "    #     'sulphates': [0.68],\n",
    "    #     'alcohol': [9.8]\n",
    "    # }\n",
    "    data = data_source.copy()\n",
    "    # get the best scoring wine in the real dataset\n",
    "    X = sm.add_constant(data)\n",
    "    max_quality_index = X['quality'].idxmax()\n",
    "    max_quality_row = X.loc[max_quality_index]\n",
    "    actual_score = max_quality_row['quality']\n",
    "    print(f'Actual quality: {actual_score}')\n",
    "    max_quality_row = max_quality_row.drop('quality')\n",
    "\n",
    "    # Statistically significant values for both red and white wines\n",
    "    # tldr how to get a 11/10 wine\n",
    "    max_quality_row['alcohol'] = 15 #high alcohol\n",
    "    max_quality_row['sulphates'] = 2 #high sulphates\n",
    "    max_quality_row['volatile acidity'] = 0.1 #low volatile acidity\n",
    "    max_quality_row['total sulfur dioxide'] = 30 # low total sulfur dioxide\n",
    "    max_quality_row['pH'] = 2 # low pH\n",
    "\n",
    "    print(max_quality_row)\n",
    "    predicted_quality = results.predict(max_quality_row)\n",
    "    print(f'\\nPredicted wine quality: {round(predicted_quality[0])}\\n')\n"
   ]
  },
  {
   "cell_type": "code",
   "execution_count": null,
   "metadata": {},
   "outputs": [],
   "source": [
    "print('\\nRed Wine prediction: \\n')\n",
    "predict_wine_using_df(wine_red, wine_red_results)"
   ]
  },
  {
   "cell_type": "code",
   "execution_count": null,
   "metadata": {},
   "outputs": [],
   "source": [
    "print('\\nWhite Wine prediction: \\n')\n",
    "predict_wine_using_df(wine_white, wine_white_results)"
   ]
  },
  {
   "cell_type": "code",
   "execution_count": null,
   "metadata": {},
   "outputs": [],
   "source": [
    "print('\\nRed Wine Cleaned prediction: \\n')\n",
    "predict_wine_using_df(wine_red_cleaned, wine_red_cleaned_results)"
   ]
  },
  {
   "cell_type": "code",
   "execution_count": null,
   "metadata": {},
   "outputs": [],
   "source": [
    "print('\\nWhite Wine Cleaned prediction: \\n')\n",
    "predict_wine_using_df(wine_white_cleaned, wine_white_cleaned_results)"
   ]
  },
  {
   "cell_type": "code",
   "execution_count": null,
   "metadata": {},
   "outputs": [],
   "source": [
    "print('\\nRed Wine prediction: \\n')\n",
    "predict_simulated_best_wine(wine_red, wine_red_cleaned_results)"
   ]
  },
  {
   "cell_type": "code",
   "execution_count": null,
   "metadata": {},
   "outputs": [],
   "source": [
    "print('\\nWhite Wine prediction: \\n')\n",
    "predict_simulated_best_wine(wine_white, wine_white_cleaned_results)"
   ]
  },
  {
   "cell_type": "code",
   "execution_count": null,
   "metadata": {},
   "outputs": [],
   "source": [
    "def predict_simulated_best_wine_only_modify_pH_and_alcohol(data_source, results):\n",
    "    predicted_scores_original = []\n",
    "    predicted_scores_with_modifications = []\n",
    "    score_diff = []\n",
    "\n",
    "    data = data_source.copy()\n",
    "    X = sm.add_constant(data)\n",
    "\n",
    "    for row_iter in range(len(data)):\n",
    "        row = X.loc[row_iter]\n",
    "        row = row.drop('quality')\n",
    "        predicted_quality = results.predict(row)\n",
    "        row['alcohol'] = row['alcohol'] + 1.5\n",
    "        row['pH'] = row['pH'] - 1.5\n",
    "        predicted_quality_modified = results.predict(row)\n",
    "        predicted_scores_original.append(predicted_quality[0])\n",
    "        predicted_scores_with_modifications.append(predicted_quality_modified[0])\n",
    "        score_diff = predicted_quality_modified[0] - predicted_quality[0]\n",
    "\n",
    "    sns.kdeplot(predicted_scores_original, label='Predicted Score (Original)')\n",
    "    sns.kdeplot(predicted_scores_with_modifications, label=\"Predicted Score (+1.5% abv -1.5%pH)\")\n",
    "    \n",
    "    plt.legend()\n",
    "    plt.show()\n",
    "    print(f'Average Score difference (Score point out of 10): {np.mean(score_diff)}')"
   ]
  },
  {
   "cell_type": "code",
   "execution_count": null,
   "metadata": {},
   "outputs": [],
   "source": [
    "# pH and Alcohol and both easily adjustable post fermentation. \n",
    "# What would happen to our wine scores if we increased alcohol and decreased pH?\n",
    "\n",
    "predict_simulated_best_wine_only_modify_pH_and_alcohol(wine_red, wine_red_cleaned_results)"
   ]
  },
  {
   "cell_type": "code",
   "execution_count": null,
   "metadata": {},
   "outputs": [],
   "source": [
    "predict_simulated_best_wine_only_modify_pH_and_alcohol(wine_white, wine_white_cleaned_results)"
   ]
  },
  {
   "cell_type": "markdown",
   "metadata": {},
   "source": [
    "`\n",
    "Increasing alcohol percentage by 1.5 and lowering pH by 1.5 gains an average of 1 whole score point. \n",
    "`"
   ]
  }
 ],
 "metadata": {
  "kernelspec": {
   "display_name": "Python 3 (ipykernel)",
   "language": "python",
   "name": "python3"
  },
  "language_info": {
   "codemirror_mode": {
    "name": "ipython",
    "version": 3
   },
   "file_extension": ".py",
   "mimetype": "text/x-python",
   "name": "python",
   "nbconvert_exporter": "python",
   "pygments_lexer": "ipython3",
   "version": "3.10.9"
  }
 },
 "nbformat": 4,
 "nbformat_minor": 4
}
